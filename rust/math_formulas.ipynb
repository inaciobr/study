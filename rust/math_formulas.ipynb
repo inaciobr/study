{
 "cells": [
  {
   "cell_type": "markdown",
   "metadata": {},
   "source": [
    "# Fibonacci"
   ]
  },
  {
   "cell_type": "code",
   "execution_count": 29,
   "metadata": {
    "vscode": {
     "languageId": "rust"
    }
   },
   "outputs": [
    {
     "data": {
      "text/plain": [
       "14930352"
      ]
     },
     "execution_count": 29,
     "metadata": {},
     "output_type": "execute_result"
    }
   ],
   "source": [
    "fn fibonacci_rec(n: u64) -> u64 {\n",
    "    if n <= 1 {\n",
    "        return n\n",
    "    }\n",
    "\n",
    "    fibonacci_rec(n - 1) + fibonacci_rec(n - 2)\n",
    "}\n",
    "\n",
    "fibonacci_rec(36)"
   ]
  },
  {
   "cell_type": "code",
   "execution_count": 72,
   "metadata": {
    "vscode": {
     "languageId": "rust"
    }
   },
   "outputs": [
    {
     "data": {
      "text/plain": [
       "18547707689471986212190138521399707760"
      ]
     },
     "execution_count": 72,
     "metadata": {},
     "output_type": "execute_result"
    }
   ],
   "source": [
    "fn fibonacci_dp(n: u8) -> u128 {\n",
    "    let (mut prev, mut curr) = (0, 1);\n",
    "\n",
    "    for _ in 1..n {\n",
    "        (prev, curr) = (curr, prev + curr);\n",
    "    }\n",
    "\n",
    "    curr\n",
    "}\n",
    "\n",
    "fibonacci_dp(180)"
   ]
  }
 ],
 "metadata": {
  "kernelspec": {
   "display_name": "Rust",
   "language": "rust",
   "name": "rust"
  },
  "language_info": {
   "codemirror_mode": "rust",
   "file_extension": ".rs",
   "mimetype": "text/rust",
   "name": "Rust",
   "pygment_lexer": "rust",
   "version": ""
  }
 },
 "nbformat": 4,
 "nbformat_minor": 2
}
