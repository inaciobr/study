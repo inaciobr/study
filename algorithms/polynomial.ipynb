{
 "cells": [
  {
   "cell_type": "markdown",
   "id": "746b6be0-94c9-4a85-b254-a5835978007d",
   "metadata": {},
   "source": [
    "# Polynomial"
   ]
  },
  {
   "cell_type": "code",
   "execution_count": 1,
   "id": "2b0ad0dc-4980-4192-884d-604649ad6b7d",
   "metadata": {},
   "outputs": [],
   "source": [
    "from typing import List\n",
    "\n",
    "from functools import reduce\n",
    "import operator as op\n",
    "\n",
    "import numpy as np"
   ]
  },
  {
   "cell_type": "code",
   "execution_count": 2,
   "id": "148d9097-afbe-42a0-a086-91d3f06afd75",
   "metadata": {},
   "outputs": [],
   "source": [
    "coefs = np.random.randint(-1, 1, size=300)\n",
    "x = 0.9"
   ]
  },
  {
   "cell_type": "code",
   "execution_count": 3,
   "id": "80a11546-d1c5-4ecf-bfd5-24004a25f61f",
   "metadata": {},
   "outputs": [
    {
     "name": "stdout",
     "output_type": "stream",
     "text": [
      "CPU times: user 320 μs, sys: 3 μs, total: 323 μs\n",
      "Wall time: 325 μs\n"
     ]
    },
    {
     "data": {
      "text/plain": [
       "np.float64(-6.16108632632114)"
      ]
     },
     "execution_count": 3,
     "metadata": {},
     "output_type": "execute_result"
    }
   ],
   "source": [
    "%%time\n",
    "sum(\n",
    "    coef * x**i\n",
    "    for i, coef in enumerate(coefs)\n",
    ")"
   ]
  },
  {
   "cell_type": "code",
   "execution_count": 4,
   "id": "b643cdbe-b7a1-46b7-82d5-877d9a487c07",
   "metadata": {},
   "outputs": [
    {
     "name": "stdout",
     "output_type": "stream",
     "text": [
      "CPU times: user 1.75 ms, sys: 0 ns, total: 1.75 ms\n",
      "Wall time: 1.75 ms\n"
     ]
    },
    {
     "data": {
      "text/plain": [
       "np.float64(-6.161086326321141)"
      ]
     },
     "execution_count": 4,
     "metadata": {},
     "output_type": "execute_result"
    }
   ],
   "source": [
    "%%time\n",
    "\n",
    "p = 0\n",
    "\n",
    "for i, coef in enumerate(coefs):\n",
    "    t = 1\n",
    "\n",
    "    for _ in range(0, i):\n",
    "        t *= x\n",
    "\n",
    "    p += coef * t\n",
    "\n",
    "p"
   ]
  },
  {
   "cell_type": "code",
   "execution_count": 5,
   "id": "7287b516-dead-42d3-9b22-ed9b1acfaa97",
   "metadata": {},
   "outputs": [
    {
     "name": "stdout",
     "output_type": "stream",
     "text": [
      "CPU times: user 0 ns, sys: 1.69 ms, total: 1.69 ms\n",
      "Wall time: 1.69 ms\n"
     ]
    },
    {
     "data": {
      "text/plain": [
       "np.float64(-6.161086326321141)"
      ]
     },
     "execution_count": 5,
     "metadata": {},
     "output_type": "execute_result"
    }
   ],
   "source": [
    "%%time\n",
    "\n",
    "p = 0\n",
    "\n",
    "for i, coef in enumerate(coefs):\n",
    "    t = reduce(op.mul, (x for _ in range(i)), 1)\n",
    "    p += coef * t\n",
    "\n",
    "p"
   ]
  },
  {
   "cell_type": "markdown",
   "id": "fb27cfbb-3f01-4618-b15e-cf2651ba75df",
   "metadata": {},
   "source": [
    "# Horner's rule"
   ]
  },
  {
   "cell_type": "code",
   "execution_count": 7,
   "id": "e37b7c60-e549-4fa7-90eb-a513524f690e",
   "metadata": {},
   "outputs": [
    {
     "name": "stdout",
     "output_type": "stream",
     "text": [
      "CPU times: user 0 ns, sys: 64 μs, total: 64 μs\n",
      "Wall time: 65.1 μs\n"
     ]
    },
    {
     "data": {
      "text/plain": [
       "np.float64(-6.161086326321141)"
      ]
     },
     "execution_count": 7,
     "metadata": {},
     "output_type": "execute_result"
    }
   ],
   "source": [
    "%%time\n",
    "def horner(coefs, x):\n",
    "    p = 0\n",
    "\n",
    "    for coef in coefs[::-1]:\n",
    "        p = coef + x*p\n",
    "\n",
    "    return p\n",
    "\n",
    "horner(coefs, x)"
   ]
  },
  {
   "cell_type": "code",
   "execution_count": null,
   "id": "675f020f-46c3-4d2c-a40c-6cc2208cc96a",
   "metadata": {},
   "outputs": [],
   "source": []
  }
 ],
 "metadata": {
  "kernelspec": {
   "display_name": "Python 3 (ipykernel)",
   "language": "python",
   "name": "python3"
  },
  "language_info": {
   "codemirror_mode": {
    "name": "ipython",
    "version": 3
   },
   "file_extension": ".py",
   "mimetype": "text/x-python",
   "name": "python",
   "nbconvert_exporter": "python",
   "pygments_lexer": "ipython3",
   "version": "3.12.4"
  }
 },
 "nbformat": 4,
 "nbformat_minor": 5
}
