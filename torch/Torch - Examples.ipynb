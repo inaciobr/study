{
 "cells": [
  {
   "cell_type": "code",
   "execution_count": 2,
   "id": "d93cda75-2a6f-424a-8c74-7dba75f14a31",
   "metadata": {},
   "outputs": [
    {
     "data": {
      "text/plain": [
       "'NVIDIA GeForce RTX 2060'"
      ]
     },
     "execution_count": 2,
     "metadata": {},
     "output_type": "execute_result"
    }
   ],
   "source": [
    "import math\n",
    "\n",
    "import torch\n",
    "import numpy as np\n",
    "import pandas as pd\n",
    "\n",
    "from sklearn import datasets\n",
    "\n",
    "torch.cuda.get_device_name(0)"
   ]
  },
  {
   "cell_type": "code",
   "execution_count": 3,
   "id": "47a519b8-a472-42a1-9077-f9db1362173d",
   "metadata": {},
   "outputs": [
    {
     "data": {
      "text/plain": [
       "tensor([[ 0,  1,  2,  3],\n",
       "        [ 4,  5,  6,  7],\n",
       "        [ 8,  9, 10, 11]])"
      ]
     },
     "execution_count": 3,
     "metadata": {},
     "output_type": "execute_result"
    }
   ],
   "source": [
    "x = torch.arange(12)\n",
    "X = x.reshape(3, -1)\n",
    "\n",
    "X"
   ]
  },
  {
   "cell_type": "code",
   "execution_count": 4,
   "id": "4d7ee700",
   "metadata": {},
   "outputs": [
    {
     "data": {
      "text/plain": [
       "(12, 3, 3, torch.Size([3, 4]), torch.Size([3, 4]))"
      ]
     },
     "execution_count": 4,
     "metadata": {},
     "output_type": "execute_result"
    }
   ],
   "source": [
    "X.numel(), len(X), X.shape[0], X.shape, X.size()"
   ]
  },
  {
   "cell_type": "code",
   "execution_count": 5,
   "id": "8ef355b1-8d57-4981-b891-5ae1e3a27704",
   "metadata": {},
   "outputs": [
    {
     "data": {
      "text/plain": [
       "(tensor(2),\n",
       " tensor([0, 1, 2, 3]),\n",
       " tensor([0, 1, 2, 3]),\n",
       " tensor([ 2,  6, 10]),\n",
       " tensor(2))"
      ]
     },
     "execution_count": 5,
     "metadata": {},
     "output_type": "execute_result"
    }
   ],
   "source": [
    "x[2], X[0], X[0, :], X[:, 2], X[0, 2]"
   ]
  },
  {
   "cell_type": "code",
   "execution_count": 6,
   "id": "6aa7064a",
   "metadata": {},
   "outputs": [
    {
     "data": {
      "text/plain": [
       "(tensor([1.0000e+00, 2.7183e+00, 7.3891e+00, 2.0086e+01, 5.4598e+01, 1.4841e+02,\n",
       "         4.0343e+02, 1.0966e+03, 2.9810e+03, 8.1031e+03, 2.2026e+04, 5.9874e+04]),\n",
       " tensor([1.0000e+00, 2.7183e+00, 7.3891e+00, 2.0086e+01, 5.4598e+01, 1.4841e+02,\n",
       "         4.0343e+02, 1.0966e+03, 2.9810e+03, 8.1031e+03, 2.2026e+04, 5.9874e+04]),\n",
       " tensor([1.0000e+00, 2.7183e+00, 7.3891e+00, 2.0086e+01, 5.4598e+01, 1.4841e+02,\n",
       "         4.0343e+02, 1.0966e+03, 2.9810e+03, 8.1031e+03, 2.2026e+04, 5.9874e+04]))"
      ]
     },
     "execution_count": 6,
     "metadata": {},
     "output_type": "execute_result"
    }
   ],
   "source": [
    "x.exp(), torch.exp(x), math.e**x"
   ]
  },
  {
   "cell_type": "code",
   "execution_count": 6,
   "id": "96b67594",
   "metadata": {},
   "outputs": [
    {
     "data": {
      "text/plain": [
       "(tensor([1.0000e+00, 1.7183e+00, 5.3891e+00, 1.7086e+01, 5.0598e+01, 1.4341e+02,\n",
       "         3.9743e+02, 1.0896e+03, 2.9730e+03, 8.0941e+03, 2.2016e+04, 5.9863e+04]),\n",
       " tensor([1.0000e+00, 3.7183e+00, 9.3891e+00, 2.3086e+01, 5.8598e+01, 1.5341e+02,\n",
       "         4.0943e+02, 1.1036e+03, 2.9890e+03, 8.1121e+03, 2.2036e+04, 5.9885e+04]),\n",
       " tensor([0.0000e+00, 2.7183e+00, 1.4778e+01, 6.0257e+01, 2.1839e+02, 7.4207e+02,\n",
       "         2.4206e+03, 7.6764e+03, 2.3848e+04, 7.2928e+04, 2.2026e+05, 6.5862e+05]),\n",
       " tensor([       inf, 2.7183e+00, 3.6945e+00, 6.6952e+00, 1.3650e+01, 2.9683e+01,\n",
       "         6.7238e+01, 1.5666e+02, 3.7262e+02, 9.0034e+02, 2.2026e+03, 5.4431e+03]),\n",
       " tensor([nan,  1.,  2.,  3.,  4.,  5.,  6.,  7.,  8.,  9., 10., 11.]))"
      ]
     },
     "execution_count": 6,
     "metadata": {},
     "output_type": "execute_result"
    }
   ],
   "source": [
    "x.exp() - x, x.exp() + x, x.exp() * x, x.exp() / x, x**2 / x"
   ]
  },
  {
   "cell_type": "code",
   "execution_count": 7,
   "id": "da1753fa",
   "metadata": {},
   "outputs": [
    {
     "data": {
      "text/plain": [
       "tensor([[ 0.5517,  0.1404,  0.9459, -0.1416],\n",
       "        [ 1.1432,  0.5555,  0.5555,  2.2577],\n",
       "        [-1.2579,  0.5555,  0.5555, -0.3569]])"
      ]
     },
     "execution_count": 7,
     "metadata": {},
     "output_type": "execute_result"
    }
   ],
   "source": [
    "r = torch.randn(3, 4)\n",
    "r[1:3, 1:3] = 0.5555\n",
    "r"
   ]
  },
  {
   "cell_type": "code",
   "execution_count": 8,
   "id": "4fbe13af",
   "metadata": {},
   "outputs": [
    {
     "data": {
      "text/plain": [
       "(tensor([[ 0.5517,  1.1404,  2.9459,  2.8584],\n",
       "         [ 5.1432,  5.5555,  6.5555,  9.2577],\n",
       "         [ 6.7421,  9.5555, 10.5555, 10.6431]]),\n",
       " tensor([[  0.0000,   0.1404,   1.8918,  -0.4248],\n",
       "         [  4.5726,   2.7775,   3.3330,  15.8042],\n",
       "         [-10.0635,   4.9995,   5.5550,  -3.9259]]))"
      ]
     },
     "execution_count": 8,
     "metadata": {},
     "output_type": "execute_result"
    }
   ],
   "source": [
    "X + r, X * r"
   ]
  },
  {
   "cell_type": "code",
   "execution_count": 9,
   "id": "c3f4fe8d",
   "metadata": {},
   "outputs": [
    {
     "data": {
      "text/plain": [
       "(tensor([[ 0.0000,  1.0000,  2.0000,  3.0000],\n",
       "         [ 4.0000,  5.0000,  6.0000,  7.0000],\n",
       "         [ 8.0000,  9.0000, 10.0000, 11.0000],\n",
       "         [ 0.5517,  0.1404,  0.9459, -0.1416],\n",
       "         [ 1.1432,  0.5555,  0.5555,  2.2577],\n",
       "         [-1.2579,  0.5555,  0.5555, -0.3569]]),\n",
       " tensor([[ 0.0000,  1.0000,  2.0000,  3.0000,  0.5517,  0.1404,  0.9459, -0.1416],\n",
       "         [ 4.0000,  5.0000,  6.0000,  7.0000,  1.1432,  0.5555,  0.5555,  2.2577],\n",
       "         [ 8.0000,  9.0000, 10.0000, 11.0000, -1.2579,  0.5555,  0.5555, -0.3569]]))"
      ]
     },
     "execution_count": 9,
     "metadata": {},
     "output_type": "execute_result"
    }
   ],
   "source": [
    "torch.concat([X, r], axis=0), torch.concat([X, r], axis=1)"
   ]
  },
  {
   "cell_type": "code",
   "execution_count": 10,
   "id": "f2b08484",
   "metadata": {},
   "outputs": [
    {
     "data": {
      "text/plain": [
       "(tensor([12, 15, 18, 21]), tensor([ 6, 22, 38]), tensor(66))"
      ]
     },
     "execution_count": 10,
     "metadata": {},
     "output_type": "execute_result"
    }
   ],
   "source": [
    "X.sum(axis=0), X.sum(axis=1), X.sum()"
   ]
  },
  {
   "cell_type": "code",
   "execution_count": 11,
   "id": "62351341",
   "metadata": {},
   "outputs": [
    {
     "data": {
      "text/plain": [
       "(tensor([[False,  True,  True],\n",
       "         [False, False,  True],\n",
       "         [False, False, False]]),\n",
       " tensor([[False, False, False],\n",
       "         [ True, False, False],\n",
       "         [ True,  True, False]]),\n",
       " tensor([[ True, False, False],\n",
       "         [False,  True, False],\n",
       "         [False, False,  True]]))"
      ]
     },
     "execution_count": 11,
     "metadata": {},
     "output_type": "execute_result"
    }
   ],
   "source": [
    "a = torch.arange(3)\n",
    "b = torch.arange(3).reshape(3, 1)\n",
    "\n",
    "a > b, a < b, a == b"
   ]
  },
  {
   "cell_type": "code",
   "execution_count": 12,
   "id": "64e9551e",
   "metadata": {},
   "outputs": [
    {
     "name": "stdout",
     "output_type": "stream",
     "text": [
      "140588136695920\n",
      "140582221898896\n",
      "140582221898896\n"
     ]
    }
   ],
   "source": [
    "print(id(X))\n",
    "X = X + 0\n",
    "print(id(X))\n",
    "X[:] = X + 0\n",
    "print(id(X))"
   ]
  },
  {
   "cell_type": "code",
   "execution_count": 13,
   "id": "9f6d4d88",
   "metadata": {},
   "outputs": [
    {
     "data": {
      "text/plain": [
       "(array([[ 0,  1,  2,  3],\n",
       "        [ 4, 99,  6,  7],\n",
       "        [ 8,  9, 77, 11]]),\n",
       " tensor([[ 0,  1,  2,  3],\n",
       "         [ 4, 99,  6,  7],\n",
       "         [ 8,  9, 77, 11]]))"
      ]
     },
     "execution_count": 13,
     "metadata": {},
     "output_type": "execute_result"
    }
   ],
   "source": [
    "X_np = X.numpy()\n",
    "X[1, 1] = 99\n",
    "X_np[2, 2] = 77\n",
    "\n",
    "X_np, X"
   ]
  },
  {
   "cell_type": "code",
   "execution_count": 14,
   "id": "fbbf1a08",
   "metadata": {},
   "outputs": [
    {
     "data": {
      "text/plain": [
       "(array([[ 0,  1,  2,  3],\n",
       "        [ 4, 99,  6,  7],\n",
       "        [ 8,  9, 77, 11]]),\n",
       " tensor([[ 0,  1,  2,  3],\n",
       "         [ 4, 99,  6,  7],\n",
       "         [ 8,  9, 77, 11]]))"
      ]
     },
     "execution_count": 14,
     "metadata": {},
     "output_type": "execute_result"
    }
   ],
   "source": [
    "X_np = X.numpy()\n",
    "X[1, 1] = 99\n",
    "X_np[2, 2] = 77\n",
    "\n",
    "X_np, X"
   ]
  },
  {
   "cell_type": "code",
   "execution_count": 15,
   "id": "0c28f233",
   "metadata": {},
   "outputs": [
    {
     "data": {
      "text/plain": [
       "(tensor([ 0,  1,  2,  3,  4, 77,  6,  7,  8,  9, 10, 11], device='cuda:0'),\n",
       " array([ 0,  1,  2,  3, 99,  5,  6,  7,  8,  9, 10, 11]))"
      ]
     },
     "execution_count": 15,
     "metadata": {},
     "output_type": "execute_result"
    }
   ],
   "source": [
    "nx = np.arange(12)\n",
    "t_n = torch.from_numpy(nx).to('cuda')\n",
    "\n",
    "nx[4] = 99\n",
    "t_n[5] = 77\n",
    "\n",
    "t_n, nx"
   ]
  },
  {
   "cell_type": "markdown",
   "id": "3dff5e26",
   "metadata": {},
   "source": [
    "# Datasets"
   ]
  },
  {
   "cell_type": "code",
   "execution_count": 19,
   "id": "e6f3d16a",
   "metadata": {},
   "outputs": [
    {
     "data": {
      "text/plain": [
       "(tensor([[5.1000, 3.5000, 1.4000, 0.2000],\n",
       "         [4.9000, 3.0000, 1.4000, 0.2000],\n",
       "         [4.7000, 3.2000, 1.3000, 0.2000],\n",
       "         [4.6000, 3.1000, 1.5000, 0.2000],\n",
       "         [5.0000, 3.6000, 1.4000, 0.2000],\n",
       "         [5.4000, 3.9000, 1.7000, 0.4000],\n",
       "         [4.6000, 3.4000, 1.4000, 0.3000],\n",
       "         [5.0000, 3.4000, 1.5000, 0.2000],\n",
       "         [4.4000, 2.9000, 1.4000, 0.2000],\n",
       "         [4.9000, 3.1000, 1.5000, 0.1000]], dtype=torch.float64),\n",
       " tensor([0, 0, 0, 0, 0, 0, 0, 0, 0, 0], dtype=torch.int8))"
      ]
     },
     "execution_count": 19,
     "metadata": {},
     "output_type": "execute_result"
    }
   ],
   "source": [
    "ds = datasets.load_iris()\n",
    "\n",
    "X = pd.DataFrame(data=ds.data, columns=ds.feature_names)\n",
    "y = pd.DataFrame(data=ds.target, columns=['target'], dtype='category')\n",
    "y.target = y.target.cat.rename_categories(ds.target_names)\n",
    "\n",
    "X = torch.tensor(X.to_numpy())\n",
    "y = torch.tensor(y.target.cat.codes)\n",
    "\n",
    "X[:10], y[:10]"
   ]
  },
  {
   "cell_type": "markdown",
   "id": "427c7687",
   "metadata": {},
   "source": [
    "## Linear Algebra"
   ]
  },
  {
   "cell_type": "code",
   "execution_count": 7,
   "id": "1a9f3843",
   "metadata": {},
   "outputs": [
    {
     "data": {
      "text/plain": [
       "(tensor([0, 1, 4]), tensor(5), tensor(5), tensor(5))"
      ]
     },
     "execution_count": 7,
     "metadata": {},
     "output_type": "execute_result"
    }
   ],
   "source": [
    "x, y = torch.arange(3), torch.arange(3)\n",
    "x * y, x.dot(y), torch.dot(x, y), x @ y"
   ]
  },
  {
   "cell_type": "code",
   "execution_count": 26,
   "id": "53b3515c",
   "metadata": {},
   "outputs": [
    {
     "data": {
      "text/plain": [
       "(tensor([[0, 1, 2],\n",
       "         [3, 4, 5],\n",
       "         [6, 7, 8]]),\n",
       " tensor([ 5, 14, 23]),\n",
       " tensor([ 5, 14, 23]),\n",
       " tensor([15, 18, 21]))"
      ]
     },
     "execution_count": 26,
     "metadata": {},
     "output_type": "execute_result"
    }
   ],
   "source": [
    "A = torch.arange(9).reshape(3, 3)\n",
    "\n",
    "A, A@x, A.mv(x), x@A"
   ]
  },
  {
   "cell_type": "code",
   "execution_count": 27,
   "id": "56d5f9e6",
   "metadata": {},
   "outputs": [
    {
     "data": {
      "text/plain": [
       "(tensor([ 3, 12, 21]),\n",
       " tensor([[ 3],\n",
       "         [12],\n",
       "         [21]]),\n",
       " tensor([[0.0000, 0.0833, 0.0952],\n",
       "         [1.0000, 0.3333, 0.2381],\n",
       "         [2.0000, 0.5833, 0.3810]]),\n",
       " tensor([[0.0000, 0.3333, 0.6667],\n",
       "         [0.2500, 0.3333, 0.4167],\n",
       "         [0.2857, 0.3333, 0.3810]]))"
      ]
     },
     "execution_count": 27,
     "metadata": {},
     "output_type": "execute_result"
    }
   ],
   "source": [
    "A.sum(axis=1), A.sum(axis=1, keepdims=True), A / A.sum(axis=1), A / A.sum(axis=1, keepdims=True)"
   ]
  },
  {
   "cell_type": "code",
   "execution_count": 57,
   "id": "95fcd7dc",
   "metadata": {},
   "outputs": [
    {
     "data": {
      "text/plain": [
       "(tensor(65.7571, dtype=torch.float64),\n",
       " tensor(65.7571, dtype=torch.float64),\n",
       " tensor(65.7571))"
      ]
     },
     "execution_count": 57,
     "metadata": {},
     "output_type": "execute_result"
    }
   ],
   "source": [
    "torch.linalg.norm(t.double()), t.double().norm(), (t**2).sum().sqrt()"
   ]
  },
  {
   "cell_type": "code",
   "execution_count": 77,
   "id": "57b4a1fa",
   "metadata": {},
   "outputs": [],
   "source": [
    "A = torch.randn(2**10, 2**16).to('cuda')\n",
    "B = torch.randn(2**16, 2**5).to('cuda')\n",
    "C = torch.randn(2**5, 2**16).to('cuda')"
   ]
  },
  {
   "cell_type": "code",
   "execution_count": 88,
   "id": "35bdd873",
   "metadata": {},
   "outputs": [
    {
     "name": "stdout",
     "output_type": "stream",
     "text": [
      "CPU times: user 279 μs, sys: 0 ns, total: 279 μs\n",
      "Wall time: 210 μs\n"
     ]
    },
    {
     "data": {
      "text/plain": [
       "tensor([[ 122.4912, -329.9866, -660.7527,  ..., -222.6962, -328.4017,\n",
       "           20.1869],\n",
       "        [  83.6425, -128.4705,  -86.1336,  ...,   88.8980,  160.5203,\n",
       "          116.6267],\n",
       "        [-348.3337,   31.0333, -133.8974,  ...,   44.5195, -375.0338,\n",
       "            9.7773],\n",
       "        ...,\n",
       "        [-102.9866, -318.9399,    9.9577,  ...,   17.7675,  328.0702,\n",
       "           36.2171],\n",
       "        [  21.4042,   30.6871, -148.0331,  ...,  415.7370, -694.0261,\n",
       "          206.8282],\n",
       "        [ 123.0890, -493.9423, -340.3382,  ...,  -49.2932,  184.6404,\n",
       "         -116.7454]], device='cuda:0')"
      ]
     },
     "execution_count": 88,
     "metadata": {},
     "output_type": "execute_result"
    }
   ],
   "source": [
    "%%time\n",
    "A@B"
   ]
  },
  {
   "cell_type": "code",
   "execution_count": 90,
   "id": "466d6f4f",
   "metadata": {},
   "outputs": [
    {
     "name": "stdout",
     "output_type": "stream",
     "text": [
      "CPU times: user 139 μs, sys: 0 ns, total: 139 μs\n",
      "Wall time: 134 μs\n"
     ]
    },
    {
     "data": {
      "text/plain": [
       "tensor([[-166.8682,  388.1326,  -35.6865,  ..., -277.5088, -285.0313,\n",
       "         -227.4763],\n",
       "        [-158.1438,  189.0386, -177.6631,  ...,  100.5351,  529.1157,\n",
       "         -127.5120],\n",
       "        [ -17.1950,  422.6987,  -69.8127,  ..., -433.6981,  191.6545,\n",
       "          338.6786],\n",
       "        ...,\n",
       "        [ 326.4403, -206.2036,  341.9270,  ..., -164.0471, -184.0267,\n",
       "          183.1534],\n",
       "        [  31.7391,   62.9616,  464.5724,  ...,  -72.6045,    2.1875,\n",
       "          187.6327],\n",
       "        [ -52.4271,  201.6768,  -10.8927,  ..., -240.9334, -126.2200,\n",
       "         -167.4198]], device='cuda:0')"
      ]
     },
     "execution_count": 90,
     "metadata": {},
     "output_type": "execute_result"
    }
   ],
   "source": [
    "%%time\n",
    "A@C.T"
   ]
  }
 ],
 "metadata": {
  "kernelspec": {
   "display_name": "Python 3 (ipykernel)",
   "language": "python",
   "name": "python3"
  },
  "language_info": {
   "codemirror_mode": {
    "name": "ipython",
    "version": 3
   },
   "file_extension": ".py",
   "mimetype": "text/x-python",
   "name": "python",
   "nbconvert_exporter": "python",
   "pygments_lexer": "ipython3",
   "version": "3.12.4"
  }
 },
 "nbformat": 4,
 "nbformat_minor": 5
}
