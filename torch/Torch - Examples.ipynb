{
 "cells": [
  {
   "cell_type": "code",
   "execution_count": 94,
   "id": "d93cda75-2a6f-424a-8c74-7dba75f14a31",
   "metadata": {},
   "outputs": [
    {
     "data": {
      "text/plain": [
       "'NVIDIA GeForce RTX 2060'"
      ]
     },
     "execution_count": 94,
     "metadata": {},
     "output_type": "execute_result"
    }
   ],
   "source": [
    "import math\n",
    "\n",
    "import torch\n",
    "import numpy as np\n",
    "import pandas as pd\n",
    "\n",
    "from sklearn import datasets\n",
    "\n",
    "torch.cuda.get_device_name(0)"
   ]
  },
  {
   "cell_type": "code",
   "execution_count": 38,
   "id": "47a519b8-a472-42a1-9077-f9db1362173d",
   "metadata": {},
   "outputs": [
    {
     "data": {
      "text/plain": [
       "tensor([[ 0,  1,  2,  3],\n",
       "        [ 4,  5,  6,  7],\n",
       "        [ 8,  9, 10, 11]])"
      ]
     },
     "execution_count": 38,
     "metadata": {},
     "output_type": "execute_result"
    }
   ],
   "source": [
    "x = torch.arange(12)\n",
    "X = x.reshape(3, -1)\n",
    "\n",
    "X"
   ]
  },
  {
   "cell_type": "code",
   "execution_count": 37,
   "id": "4d7ee700",
   "metadata": {},
   "outputs": [
    {
     "data": {
      "text/plain": [
       "(12, 3, 3, torch.Size([3, 4]), torch.Size([3, 4]))"
      ]
     },
     "execution_count": 37,
     "metadata": {},
     "output_type": "execute_result"
    }
   ],
   "source": [
    "X.numel(), len(X), X.shape[0], X.shape, X.size()"
   ]
  },
  {
   "cell_type": "code",
   "execution_count": 36,
   "id": "8ef355b1-8d57-4981-b891-5ae1e3a27704",
   "metadata": {},
   "outputs": [
    {
     "data": {
      "text/plain": [
       "(tensor(2),\n",
       " tensor([0, 1, 2, 3]),\n",
       " tensor([0, 1, 2, 3]),\n",
       " tensor([ 2,  6, 10]),\n",
       " tensor(2))"
      ]
     },
     "execution_count": 36,
     "metadata": {},
     "output_type": "execute_result"
    }
   ],
   "source": [
    "x[2], X[0], X[0, :], X[:, 2], X[0, 2]"
   ]
  },
  {
   "cell_type": "code",
   "execution_count": 50,
   "id": "6aa7064a",
   "metadata": {},
   "outputs": [
    {
     "data": {
      "text/plain": [
       "(tensor([1.0000e+00, 2.7183e+00, 7.3891e+00, 2.0086e+01, 5.4598e+01, 1.4841e+02,\n",
       "         4.0343e+02, 1.0966e+03, 2.9810e+03, 8.1031e+03, 2.2026e+04, 5.9874e+04]),\n",
       " tensor([1.0000e+00, 2.7183e+00, 7.3891e+00, 2.0086e+01, 5.4598e+01, 1.4841e+02,\n",
       "         4.0343e+02, 1.0966e+03, 2.9810e+03, 8.1031e+03, 2.2026e+04, 5.9874e+04]),\n",
       " tensor([1.0000e+00, 2.7183e+00, 7.3891e+00, 2.0086e+01, 5.4598e+01, 1.4841e+02,\n",
       "         4.0343e+02, 1.0966e+03, 2.9810e+03, 8.1031e+03, 2.2026e+04, 5.9874e+04]))"
      ]
     },
     "execution_count": 50,
     "metadata": {},
     "output_type": "execute_result"
    }
   ],
   "source": [
    "x.exp(), torch.exp(x), math.e**x"
   ]
  },
  {
   "cell_type": "code",
   "execution_count": 55,
   "id": "96b67594",
   "metadata": {},
   "outputs": [
    {
     "data": {
      "text/plain": [
       "(tensor([1.0000e+00, 1.7183e+00, 5.3891e+00, 1.7086e+01, 5.0598e+01, 1.4341e+02,\n",
       "         3.9743e+02, 1.0896e+03, 2.9730e+03, 8.0941e+03, 2.2016e+04, 5.9863e+04]),\n",
       " tensor([1.0000e+00, 3.7183e+00, 9.3891e+00, 2.3086e+01, 5.8598e+01, 1.5341e+02,\n",
       "         4.0943e+02, 1.1036e+03, 2.9890e+03, 8.1121e+03, 2.2036e+04, 5.9885e+04]),\n",
       " tensor([0.0000e+00, 2.7183e+00, 1.4778e+01, 6.0257e+01, 2.1839e+02, 7.4207e+02,\n",
       "         2.4206e+03, 7.6764e+03, 2.3848e+04, 7.2928e+04, 2.2026e+05, 6.5862e+05]),\n",
       " tensor([       inf, 2.7183e+00, 3.6945e+00, 6.6952e+00, 1.3650e+01, 2.9683e+01,\n",
       "         6.7238e+01, 1.5666e+02, 3.7262e+02, 9.0034e+02, 2.2026e+03, 5.4431e+03]),\n",
       " tensor([nan,  1.,  2.,  3.,  4.,  5.,  6.,  7.,  8.,  9., 10., 11.]))"
      ]
     },
     "execution_count": 55,
     "metadata": {},
     "output_type": "execute_result"
    }
   ],
   "source": [
    "x.exp() - x, x.exp() + x, x.exp() * x, x.exp() / x, x**2 / x"
   ]
  },
  {
   "cell_type": "code",
   "execution_count": 59,
   "id": "da1753fa",
   "metadata": {},
   "outputs": [
    {
     "data": {
      "text/plain": [
       "tensor([[ 1.0928,  2.3828,  1.4546,  0.0529],\n",
       "        [-0.5365,  0.5555,  0.5555, -2.0102],\n",
       "        [-1.0795,  0.5555,  0.5555, -0.1477]])"
      ]
     },
     "execution_count": 59,
     "metadata": {},
     "output_type": "execute_result"
    }
   ],
   "source": [
    "r = torch.randn(3, 4)\n",
    "r[1:3, 1:3] = 0.5555\n",
    "r"
   ]
  },
  {
   "cell_type": "code",
   "execution_count": 67,
   "id": "4fbe13af",
   "metadata": {},
   "outputs": [
    {
     "data": {
      "text/plain": [
       "(tensor([[ 1.0928,  3.3828,  3.4546,  3.0529],\n",
       "         [ 3.4635,  5.5555,  6.5555,  4.9898],\n",
       "         [ 6.9205,  9.5555, 10.5555, 10.8523]]),\n",
       " tensor([[  0.0000,   2.3828,   2.9093,   0.1587],\n",
       "         [ -2.1460,   2.7775,   3.3330, -14.0713],\n",
       "         [ -8.6363,   4.9995,   5.5550,  -1.6247]]))"
      ]
     },
     "execution_count": 67,
     "metadata": {},
     "output_type": "execute_result"
    }
   ],
   "source": [
    "X + r, X * r"
   ]
  },
  {
   "cell_type": "code",
   "execution_count": 72,
   "id": "c3f4fe8d",
   "metadata": {},
   "outputs": [
    {
     "data": {
      "text/plain": [
       "(tensor([[ 0.0000,  1.0000,  2.0000,  3.0000],\n",
       "         [ 4.0000,  5.0000,  6.0000,  7.0000],\n",
       "         [ 8.0000,  9.0000, 10.0000, 11.0000],\n",
       "         [ 1.0928,  2.3828,  1.4546,  0.0529],\n",
       "         [-0.5365,  0.5555,  0.5555, -2.0102],\n",
       "         [-1.0795,  0.5555,  0.5555, -0.1477]]),\n",
       " tensor([[ 0.0000,  1.0000,  2.0000,  3.0000,  1.0928,  2.3828,  1.4546,  0.0529],\n",
       "         [ 4.0000,  5.0000,  6.0000,  7.0000, -0.5365,  0.5555,  0.5555, -2.0102],\n",
       "         [ 8.0000,  9.0000, 10.0000, 11.0000, -1.0795,  0.5555,  0.5555, -0.1477]]))"
      ]
     },
     "execution_count": 72,
     "metadata": {},
     "output_type": "execute_result"
    }
   ],
   "source": [
    "torch.concat([X, r], axis=0), torch.concat([X, r], axis=1)"
   ]
  },
  {
   "cell_type": "code",
   "execution_count": 73,
   "id": "f2b08484",
   "metadata": {},
   "outputs": [
    {
     "data": {
      "text/plain": [
       "(tensor([12, 15, 18, 21]), tensor([ 6, 22, 38]), tensor(66))"
      ]
     },
     "execution_count": 73,
     "metadata": {},
     "output_type": "execute_result"
    }
   ],
   "source": [
    "X.sum(axis=0), X.sum(axis=1), X.sum()"
   ]
  },
  {
   "cell_type": "code",
   "execution_count": 75,
   "id": "62351341",
   "metadata": {},
   "outputs": [
    {
     "data": {
      "text/plain": [
       "(tensor([[False,  True,  True],\n",
       "         [False, False,  True],\n",
       "         [False, False, False]]),\n",
       " tensor([[False, False, False],\n",
       "         [ True, False, False],\n",
       "         [ True,  True, False]]),\n",
       " tensor([[ True, False, False],\n",
       "         [False,  True, False],\n",
       "         [False, False,  True]]))"
      ]
     },
     "execution_count": 75,
     "metadata": {},
     "output_type": "execute_result"
    }
   ],
   "source": [
    "a = torch.arange(3)\n",
    "b = torch.arange(3).reshape(3, 1)\n",
    "\n",
    "a > b, a < b, a == b"
   ]
  },
  {
   "cell_type": "code",
   "execution_count": 77,
   "id": "64e9551e",
   "metadata": {},
   "outputs": [
    {
     "name": "stdout",
     "output_type": "stream",
     "text": [
      "139918555737984\n",
      "139918554758944\n",
      "139918554758944\n"
     ]
    }
   ],
   "source": [
    "print(id(X))\n",
    "X = X + 0\n",
    "print(id(X))\n",
    "X[:] = X + 0\n",
    "print(id(X))"
   ]
  },
  {
   "cell_type": "code",
   "execution_count": 80,
   "id": "9f6d4d88",
   "metadata": {},
   "outputs": [
    {
     "data": {
      "text/plain": [
       "(array([[ 0,  1,  2,  3],\n",
       "        [ 4, 99,  6,  7],\n",
       "        [ 8,  9, 77, 11]]),\n",
       " tensor([[ 0,  1,  2,  3],\n",
       "         [ 4, 99,  6,  7],\n",
       "         [ 8,  9, 77, 11]]))"
      ]
     },
     "execution_count": 80,
     "metadata": {},
     "output_type": "execute_result"
    }
   ],
   "source": [
    "X_np = X.numpy()\n",
    "X[1, 1] = 99\n",
    "X_np[2, 2] = 77\n",
    "\n",
    "X_np, X"
   ]
  },
  {
   "cell_type": "code",
   "execution_count": null,
   "id": "fbbf1a08",
   "metadata": {},
   "outputs": [
    {
     "data": {
      "text/plain": [
       "(array([[ 0,  1,  2,  3],\n",
       "        [ 4, 99,  6,  7],\n",
       "        [ 8,  9, 77, 11]]),\n",
       " tensor([[ 0,  1,  2,  3],\n",
       "         [ 4, 99,  6,  7],\n",
       "         [ 8,  9, 77, 11]]))"
      ]
     },
     "metadata": {},
     "output_type": "display_data"
    }
   ],
   "source": [
    "X_np = X.numpy()\n",
    "X[1, 1] = 99\n",
    "X_np[2, 2] = 77\n",
    "\n",
    "X_np, X"
   ]
  },
  {
   "cell_type": "code",
   "execution_count": 88,
   "id": "0c28f233",
   "metadata": {},
   "outputs": [
    {
     "data": {
      "text/plain": [
       "(tensor([ 0,  1,  2,  3,  4, 77,  6,  7,  8,  9, 10, 11], device='cuda:0'),\n",
       " array([ 0,  1,  2,  3, 99,  5,  6,  7,  8,  9, 10, 11]))"
      ]
     },
     "execution_count": 88,
     "metadata": {},
     "output_type": "execute_result"
    }
   ],
   "source": [
    "nx = np.arange(12)\n",
    "t_n = torch.from_numpy(nx).to('cuda')\n",
    "\n",
    "nx[4] = 99\n",
    "t_n[5] = 77\n",
    "\n",
    "t_n, nx"
   ]
  },
  {
   "cell_type": "markdown",
   "id": "3dff5e26",
   "metadata": {},
   "source": [
    "# Datasets"
   ]
  },
  {
   "cell_type": "code",
   "execution_count": 104,
   "id": "ea34bc9c",
   "metadata": {},
   "outputs": [
    {
     "data": {
      "text/plain": [
       "array([0, 0, 0, 0, 0, 0, 0, 0, 0, 0, 0, 0, 0, 0, 0, 0, 0, 0, 0, 0, 0, 0,\n",
       "       0, 0, 0, 0, 0, 0, 0, 0, 0, 0, 0, 0, 0, 0, 0, 0, 0, 0, 0, 0, 0, 0,\n",
       "       0, 0, 0, 0, 0, 0, 1, 1, 1, 1, 1, 1, 1, 1, 1, 1, 1, 1, 1, 1, 1, 1,\n",
       "       1, 1, 1, 1, 1, 1, 1, 1, 1, 1, 1, 1, 1, 1, 1, 1, 1, 1, 1, 1, 1, 1,\n",
       "       1, 1, 1, 1, 1, 1, 1, 1, 1, 1, 1, 1, 2, 2, 2, 2, 2, 2, 2, 2, 2, 2,\n",
       "       2, 2, 2, 2, 2, 2, 2, 2, 2, 2, 2, 2, 2, 2, 2, 2, 2, 2, 2, 2, 2, 2,\n",
       "       2, 2, 2, 2, 2, 2, 2, 2, 2, 2, 2, 2, 2, 2, 2, 2, 2, 2])"
      ]
     },
     "execution_count": 104,
     "metadata": {},
     "output_type": "execute_result"
    }
   ],
   "source": [
    "ds.target"
   ]
  },
  {
   "cell_type": "code",
   "execution_count": 105,
   "id": "e6f3d16a",
   "metadata": {},
   "outputs": [],
   "source": [
    "ds = datasets.load_iris()\n",
    "\n",
    "X = pd.DataFrame(data=ds.data, columns=ds.feature_names)\n",
    "y = pd.DataFrame(data=ds.target, columns='target', dtype='category')\n",
    "y.target"
   ]
  },
  {
   "cell_type": "code",
   "execution_count": 102,
   "id": "82b2eee3",
   "metadata": {},
   "outputs": [
    {
     "data": {
      "text/plain": [
       "dict_keys(['data', 'target', 'frame', 'target_names', 'DESCR', 'feature_names', 'filename', 'data_module'])"
      ]
     },
     "execution_count": 102,
     "metadata": {},
     "output_type": "execute_result"
    }
   ],
   "source": []
  },
  {
   "cell_type": "code",
   "execution_count": null,
   "id": "3b7d07db",
   "metadata": {},
   "outputs": [],
   "source": [
    "X = torch.tensor(df[.].to_numpy())"
   ]
  }
 ],
 "metadata": {
  "kernelspec": {
   "display_name": "Python 3 (ipykernel)",
   "language": "python",
   "name": "python3"
  },
  "language_info": {
   "codemirror_mode": {
    "name": "ipython",
    "version": 3
   },
   "file_extension": ".py",
   "mimetype": "text/x-python",
   "name": "python",
   "nbconvert_exporter": "python",
   "pygments_lexer": "ipython3",
   "version": "3.12.4"
  }
 },
 "nbformat": 4,
 "nbformat_minor": 5
}
